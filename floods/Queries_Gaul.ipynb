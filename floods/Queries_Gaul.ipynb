{
 "cells": [
  {
   "cell_type": "code",
   "execution_count": 1,
   "metadata": {
    "ExecuteTime": {
     "end_time": "2017-03-30T09:56:35.539373",
     "start_time": "2017-03-30T09:56:33.765638"
    },
    "collapsed": true
   },
   "outputs": [],
   "source": [
    "import pandas as pd\n",
    "import json\n",
    "import requests\n",
    "import numpy as np"
   ]
  },
  {
   "cell_type": "markdown",
   "metadata": {},
   "source": [
    "[BC thread](https://basecamp.com/1756858/projects/13683267/messages/67175873)  \n",
    "\n",
    "Original data tables for adm levels:\n",
    "* [**adm0**](https://onedrive.live.com/?authkey=%21AB5CsqpH3uRtjwM&cid=5CD64A8A9CA52AC7&id=5CD64A8A9CA52AC7%21330160&parId=5CD64A8A9CA52AC7%21324242&action=locate)\n",
    "* [**adm1**](https://onedrive.live.com/?authkey=%21AKnPabG3WrQgK08&cid=5CD64A8A9CA52AC7&id=5CD64A8A9CA52AC7%21330161&parId=5CD64A8A9CA52AC7%21324242&action=locate)\n",
    "* [**adm2**](https://onedrive.live.com/?authkey=%21ALKEsRAkxzpe6sk&cid=5CD64A8A9CA52AC7&id=5CD64A8A9CA52AC7%21330136&parId=5CD64A8A9CA52AC7%21324242&action=locate)\n",
    "They also provided us coincident tables between [Gaul and Worldbank clases](https://basecamp.com/1756858/projects/13683267/messages/67175873#comment_511809201)\n",
    "\n",
    "\n",
    "The original geometries where treated with [Mapshaper](http://www.mapshaper.org/) algorithms to reduce their size without compromising their integrity: \n",
    "```bash\n",
    "mapshaper -i indata.shp -simplify visvalingam 10% keep-shapes -o format=shapefile outdata.shp\n",
    "```\n",
    "\n",
    "After this first step, the datasets where uploaded to Carto and merged using the below data structure"
   ]
  },
  {
   "cell_type": "markdown",
   "metadata": {},
   "source": [
    "# New data structure"
   ]
  },
  {
   "cell_type": "code",
   "execution_count": 40,
   "metadata": {
    "ExecuteTime": {
     "end_time": "2017-03-30T10:57:27.287471",
     "start_time": "2017-03-30T10:57:26.435271"
    },
    "collapsed": false
   },
   "outputs": [
    {
     "data": {
      "text/html": [
       "<div>\n",
       "<table border=\"1\" class=\"dataframe\">\n",
       "  <thead>\n",
       "    <tr style=\"text-align: right;\">\n",
       "      <th></th>\n",
       "      <th>adm0_code</th>\n",
       "      <th>adm0_name</th>\n",
       "      <th>adm1_code</th>\n",
       "      <th>adm1_name</th>\n",
       "      <th>adm2_code</th>\n",
       "      <th>adm2_name</th>\n",
       "      <th>cartodb_id</th>\n",
       "      <th>centroid</th>\n",
       "      <th>iso</th>\n",
       "      <th>level</th>\n",
       "      <th>region</th>\n",
       "      <th>the_geom</th>\n",
       "      <th>the_geom_webmercator</th>\n",
       "    </tr>\n",
       "  </thead>\n",
       "  <tbody>\n",
       "  </tbody>\n",
       "</table>\n",
       "</div>"
      ],
      "text/plain": [
       "Empty DataFrame\n",
       "Columns: [adm0_code, adm0_name, adm1_code, adm1_name, adm2_code, adm2_name, cartodb_id, centroid, iso, level, region, the_geom, the_geom_webmercator]\n",
       "Index: []"
      ]
     },
     "execution_count": 40,
     "metadata": {},
     "output_type": "execute_result"
    }
   ],
   "source": [
    "payload = {'q': \"SELECT * FROM gaul_final limit 1\"}\n",
    "r = requests.get('https://simbiotica.carto.com/api/v2/sql', params=payload)\n",
    "tableStructure= pd.read_json(json.dumps(r.json()['rows']), orient='records')\n",
    "tableStructure.head(0)\n"
   ]
  },
  {
   "cell_type": "markdown",
   "metadata": {},
   "source": [
    "The Result table is ```gaul_final``` stored in sim "
   ]
  },
  {
   "cell_type": "markdown",
   "metadata": {},
   "source": [
    "# Problematic: missing countries:\n",
    "\n",
    "We realized that some countries that were present on the first table were missing from the second one."
   ]
  },
  {
   "cell_type": "code",
   "execution_count": 12,
   "metadata": {
    "ExecuteTime": {
     "end_time": "2017-03-30T10:14:34.609723",
     "start_time": "2017-03-30T10:14:34.098539"
    },
    "collapsed": false
   },
   "outputs": [
    {
     "data": {
      "text/html": [
       "<div>\n",
       "<table border=\"1\" class=\"dataframe\">\n",
       "  <thead>\n",
       "    <tr style=\"text-align: right;\">\n",
       "      <th></th>\n",
       "      <th>gaul_final_count</th>\n",
       "      <th>level</th>\n",
       "    </tr>\n",
       "  </thead>\n",
       "  <tbody>\n",
       "    <tr>\n",
       "      <th>0</th>\n",
       "      <td>181</td>\n",
       "      <td>0</td>\n",
       "    </tr>\n",
       "    <tr>\n",
       "      <th>1</th>\n",
       "      <td>278</td>\n",
       "      <td>1</td>\n",
       "    </tr>\n",
       "    <tr>\n",
       "      <th>2</th>\n",
       "      <td>279</td>\n",
       "      <td>2</td>\n",
       "    </tr>\n",
       "  </tbody>\n",
       "</table>\n",
       "</div>"
      ],
      "text/plain": [
       "   gaul_final_count  level\n",
       "0               181      0\n",
       "1               278      1\n",
       "2               279      2"
      ]
     },
     "execution_count": 12,
     "metadata": {},
     "output_type": "execute_result"
    }
   ],
   "source": [
    "payload = {'q': \"select count(distinct adm0_code) gaul_final_count, level from gaul_final group by level\"}\n",
    "r = requests.get('https://simbiotica.carto.com/api/v2/sql', params=payload)\n",
    "tableStructure= pd.read_json(json.dumps(r.json()['rows']), orient='records')\n",
    "tableStructure"
   ]
  },
  {
   "cell_type": "markdown",
   "metadata": {},
   "source": [
    "### Original table with the number of all contries and the number of  those that are state Members:"
   ]
  },
  {
   "cell_type": "code",
   "execution_count": 6,
   "metadata": {
    "ExecuteTime": {
     "end_time": "2017-03-30T10:08:52.032514",
     "start_time": "2017-03-30T10:08:51.474442"
    },
    "collapsed": false
   },
   "outputs": [
    {
     "data": {
      "text/html": [
       "<div>\n",
       "<table border=\"1\" class=\"dataframe\">\n",
       "  <thead>\n",
       "    <tr style=\"text-align: right;\">\n",
       "      <th></th>\n",
       "      <th>adm0_countries</th>\n",
       "    </tr>\n",
       "  </thead>\n",
       "  <tbody>\n",
       "    <tr>\n",
       "      <th>0</th>\n",
       "      <td>278</td>\n",
       "    </tr>\n",
       "  </tbody>\n",
       "</table>\n",
       "</div>"
      ],
      "text/plain": [
       "   adm0_countries\n",
       "0             278"
      ]
     },
     "execution_count": 6,
     "metadata": {},
     "output_type": "execute_result"
    }
   ],
   "source": [
    "payload = {'q': \"SELECT count(cartodb_id) adm0_countries FROM g2015_2014_0_upd270117\"}\n",
    "r = requests.get('https://simbiotica.carto.com/api/v2/sql', params=payload)\n",
    "tableStructure= pd.read_json(json.dumps(r.json()['rows']), orient='records')\n",
    "tableStructure.head(1)"
   ]
  },
  {
   "cell_type": "code",
   "execution_count": 8,
   "metadata": {
    "ExecuteTime": {
     "end_time": "2017-03-30T10:09:41.213010",
     "start_time": "2017-03-30T10:09:40.606213"
    },
    "collapsed": false
   },
   "outputs": [
    {
     "data": {
      "text/html": [
       "<div>\n",
       "<table border=\"1\" class=\"dataframe\">\n",
       "  <thead>\n",
       "    <tr style=\"text-align: right;\">\n",
       "      <th></th>\n",
       "      <th>adm0_countries_m_state</th>\n",
       "    </tr>\n",
       "  </thead>\n",
       "  <tbody>\n",
       "    <tr>\n",
       "      <th>0</th>\n",
       "      <td>194</td>\n",
       "    </tr>\n",
       "  </tbody>\n",
       "</table>\n",
       "</div>"
      ],
      "text/plain": [
       "   adm0_countries_m_state\n",
       "0                     194"
      ]
     },
     "execution_count": 8,
     "metadata": {},
     "output_type": "execute_result"
    }
   ],
   "source": [
    "payload = {'q': \"SELECT count(cartodb_id) adm0_countries_M_state FROM g2015_2014_0_upd270117 where status='Member State'\"}\n",
    "r = requests.get('https://simbiotica.carto.com/api/v2/sql', params=payload)\n",
    "tableStructure= pd.read_json(json.dumps(r.json()['rows']), orient='records')\n",
    "tableStructure.head(1) "
   ]
  },
  {
   "cell_type": "markdown",
   "metadata": {},
   "source": [
    "### Gaul iso table with the iso per Gaul code"
   ]
  },
  {
   "cell_type": "code",
   "execution_count": 4,
   "metadata": {
    "ExecuteTime": {
     "end_time": "2017-03-30T10:07:35.270659",
     "start_time": "2017-03-30T10:07:34.537295"
    },
    "collapsed": false
   },
   "outputs": [
    {
     "data": {
      "text/html": [
       "<div>\n",
       "<table border=\"1\" class=\"dataframe\">\n",
       "  <thead>\n",
       "    <tr style=\"text-align: right;\">\n",
       "      <th></th>\n",
       "      <th>gaul_iso_countries</th>\n",
       "    </tr>\n",
       "  </thead>\n",
       "  <tbody>\n",
       "    <tr>\n",
       "      <th>0</th>\n",
       "      <td>196</td>\n",
       "    </tr>\n",
       "  </tbody>\n",
       "</table>\n",
       "</div>"
      ],
      "text/plain": [
       "   gaul_iso_countries\n",
       "0                 196"
      ]
     },
     "execution_count": 4,
     "metadata": {},
     "output_type": "execute_result"
    }
   ],
   "source": [
    "payload = {'q': \"SELECT count(cartodb_id) as gaul_iso_countries FROM gaul_iso_table\"}\n",
    "r = requests.get('https://simbiotica.carto.com/api/v2/sql', params=payload)\n",
    "tableStructure= pd.read_json(json.dumps(r.json()['rows']), orient='records')\n",
    "tableStructure.head(1)"
   ]
  },
  {
   "cell_type": "markdown",
   "metadata": {},
   "source": [
    "Discordances between tables"
   ]
  },
  {
   "cell_type": "code",
   "execution_count": 49,
   "metadata": {
    "ExecuteTime": {
     "end_time": "2017-03-30T11:06:14.122677",
     "start_time": "2017-03-30T11:06:13.529055"
    },
    "collapsed": false,
    "scrolled": true
   },
   "outputs": [
    {
     "name": "stdout",
     "output_type": "stream",
     "text": [
      "count:  10\n"
     ]
    },
    {
     "data": {
      "text/html": [
       "<div>\n",
       "<table border=\"1\" class=\"dataframe\">\n",
       "  <thead>\n",
       "    <tr style=\"text-align: right;\">\n",
       "      <th></th>\n",
       "      <th>adm0_code</th>\n",
       "      <th>adm0_name</th>\n",
       "      <th>gaul</th>\n",
       "      <th>iso3</th>\n",
       "      <th>short_name</th>\n",
       "    </tr>\n",
       "  </thead>\n",
       "  <tbody>\n",
       "    <tr>\n",
       "      <th>0</th>\n",
       "      <td>147295.0</td>\n",
       "      <td>China</td>\n",
       "      <td>NaN</td>\n",
       "      <td>None</td>\n",
       "      <td>None</td>\n",
       "    </tr>\n",
       "    <tr>\n",
       "      <th>1</th>\n",
       "      <td>86.0</td>\n",
       "      <td>French Guiana</td>\n",
       "      <td>NaN</td>\n",
       "      <td>None</td>\n",
       "      <td>None</td>\n",
       "    </tr>\n",
       "    <tr>\n",
       "      <th>2</th>\n",
       "      <td>146.0</td>\n",
       "      <td>Liechtenstein</td>\n",
       "      <td>NaN</td>\n",
       "      <td>None</td>\n",
       "      <td>None</td>\n",
       "    </tr>\n",
       "    <tr>\n",
       "      <th>3</th>\n",
       "      <td>6.0</td>\n",
       "      <td>Sudan</td>\n",
       "      <td>NaN</td>\n",
       "      <td>None</td>\n",
       "      <td>None</td>\n",
       "    </tr>\n",
       "    <tr>\n",
       "      <th>4</th>\n",
       "      <td>NaN</td>\n",
       "      <td>None</td>\n",
       "      <td>183.0</td>\n",
       "      <td>NIU</td>\n",
       "      <td>Niue</td>\n",
       "    </tr>\n",
       "    <tr>\n",
       "      <th>5</th>\n",
       "      <td>NaN</td>\n",
       "      <td>None</td>\n",
       "      <td>40764.0</td>\n",
       "      <td>SDN</td>\n",
       "      <td>Sudan</td>\n",
       "    </tr>\n",
       "    <tr>\n",
       "      <th>6</th>\n",
       "      <td>NaN</td>\n",
       "      <td>None</td>\n",
       "      <td>60.0</td>\n",
       "      <td>COK</td>\n",
       "      <td>Cook Islands</td>\n",
       "    </tr>\n",
       "    <tr>\n",
       "      <th>7</th>\n",
       "      <td>NaN</td>\n",
       "      <td>None</td>\n",
       "      <td>244.0</td>\n",
       "      <td>TKL</td>\n",
       "      <td>Tokelau (Associate Member)</td>\n",
       "    </tr>\n",
       "    <tr>\n",
       "      <th>8</th>\n",
       "      <td>NaN</td>\n",
       "      <td>None</td>\n",
       "      <td>82.0</td>\n",
       "      <td>FRO</td>\n",
       "      <td>Faroe Islands (Associate Member)</td>\n",
       "    </tr>\n",
       "    <tr>\n",
       "      <th>9</th>\n",
       "      <td>NaN</td>\n",
       "      <td>None</td>\n",
       "      <td>53.0</td>\n",
       "      <td>CHN</td>\n",
       "      <td>China</td>\n",
       "    </tr>\n",
       "  </tbody>\n",
       "</table>\n",
       "</div>"
      ],
      "text/plain": [
       "   adm0_code      adm0_name     gaul  iso3                        short_name\n",
       "0   147295.0          China      NaN  None                              None\n",
       "1       86.0  French Guiana      NaN  None                              None\n",
       "2      146.0  Liechtenstein      NaN  None                              None\n",
       "3        6.0          Sudan      NaN  None                              None\n",
       "4        NaN           None    183.0   NIU                              Niue\n",
       "5        NaN           None  40764.0   SDN                             Sudan\n",
       "6        NaN           None     60.0   COK                      Cook Islands\n",
       "7        NaN           None    244.0   TKL        Tokelau (Associate Member)\n",
       "8        NaN           None     82.0   FRO  Faroe Islands (Associate Member)\n",
       "9        NaN           None     53.0   CHN                             China"
      ]
     },
     "execution_count": 49,
     "metadata": {},
     "output_type": "execute_result"
    }
   ],
   "source": [
    "payload = {'q': \"with s as (select * from g2015_2014_0_upd270117 where status = 'Member State'), r as (SELECT adm0_name, adm0_code, gaul, iso3, short_name FROM s FULL OUTER JOIN gaul_iso_table on adm0_code=gaul) select * from r where gaul is null or adm0_code is null order by adm0_name asc\"}\n",
    "r = requests.get('https://simbiotica.carto.com/api/v2/sql', params=payload)\n",
    "tableStructure= pd.read_json(json.dumps(r.json()['rows']), orient='records')\n",
    "print('count: ', len(tableStructure.index))\n",
    "tableStructure "
   ]
  },
  {
   "cell_type": "code",
   "execution_count": 64,
   "metadata": {
    "ExecuteTime": {
     "end_time": "2017-03-30T11:09:17.495895",
     "start_time": "2017-03-30T11:09:16.923709"
    },
    "collapsed": false
   },
   "outputs": [
    {
     "name": "stdout",
     "output_type": "stream",
     "text": [
      "count:  84\n"
     ]
    }
   ],
   "source": [
    "payload = {'q': \"with s as (select * from g2015_2014_0_upd270117), r as (SELECT adm0_name, adm0_code, gaul, iso3, short_name FROM s FULL OUTER JOIN gaul_iso_table on adm0_code=gaul) select count(adm0_code) from r where gaul is null or adm0_code is null\"}\n",
    "r = requests.get('https://simbiotica.carto.com/api/v2/sql', params=payload)\n",
    "tableStructure= pd.read_json(json.dumps(r.json()['rows']), orient='records')\n",
    "print('count: ', tableStructure['count'][0] )\n"
   ]
  },
  {
   "cell_type": "markdown",
   "metadata": {},
   "source": [
    "# Possible solutions"
   ]
  },
  {
   "cell_type": "markdown",
   "metadata": {},
   "source": [
    "1. Keep all countries but we will not have all isos and the gaul codes will produce some conflicts\n",
    "2. Don't keep them and manually update China and Sudan"
   ]
  },
  {
   "cell_type": "code",
   "execution_count": null,
   "metadata": {
    "collapsed": true
   },
   "outputs": [],
   "source": []
  }
 ],
 "metadata": {
  "kernelspec": {
   "display_name": "Python 3",
   "language": "python",
   "name": "python3"
  },
  "language_info": {
   "codemirror_mode": {
    "name": "ipython",
    "version": 3
   },
   "file_extension": ".py",
   "mimetype": "text/x-python",
   "name": "python",
   "nbconvert_exporter": "python",
   "pygments_lexer": "ipython3",
   "version": "3.5.3"
  }
 },
 "nbformat": 4,
 "nbformat_minor": 2
}
