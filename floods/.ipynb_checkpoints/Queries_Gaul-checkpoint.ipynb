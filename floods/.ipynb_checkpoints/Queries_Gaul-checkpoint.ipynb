{
 "cells": [
  {
   "cell_type": "code",
   "execution_count": 1,
   "metadata": {
    "ExecuteTime": {
     "end_time": "2017-03-30T09:56:35.539373",
     "start_time": "2017-03-30T09:56:33.765638"
    },
    "collapsed": true
   },
   "outputs": [],
   "source": [
    "import pandas as pd\n",
    "import json\n",
    "import requests\n",
    "import numpy as np"
   ]
  },
  {
   "cell_type": "markdown",
   "metadata": {},
   "source": [
    "\n",
    "\n",
    "[BC thread](https://basecamp.com/1756858/projects/13683267/messages/67175873)  \n",
    "\n",
    "Original data tables for adm levels:\n",
    "* [**adm0**](https://onedrive.live.com/?authkey=%21AB5CsqpH3uRtjwM&cid=5CD64A8A9CA52AC7&id=5CD64A8A9CA52AC7%21330160&parId=5CD64A8A9CA52AC7%21324242&action=locate)\n",
    "* [**adm1**](https://onedrive.live.com/?authkey=%21AKnPabG3WrQgK08&cid=5CD64A8A9CA52AC7&id=5CD64A8A9CA52AC7%21330161&parId=5CD64A8A9CA52AC7%21324242&action=locate)\n",
    "* [**adm2**](https://onedrive.live.com/?authkey=%21ALKEsRAkxzpe6sk&cid=5CD64A8A9CA52AC7&id=5CD64A8A9CA52AC7%21330136&parId=5CD64A8A9CA52AC7%21324242&action=locate)\n",
    "They also provided us coincident tables between [Gaul and Worldbank clases](https://basecamp.com/1756858/projects/13683267/messages/67175873#comment_511809201)\n",
    "\n",
    "\n",
    "The original geometries where treated with [Mapshaper](http://www.mapshaper.org/) algorithms to reduce their size without compromising their integrity: \n",
    "```bash\n",
    "mapshaper -i indata.shp -simplify visvalingam 10% keep-shapes -o format=shapefile outdata.shp\n",
    "```\n",
    "\n",
    "After this first step, the datasets where uploaded to Carto."
   ]
  },
  {
   "cell_type": "markdown",
   "metadata": {},
   "source": [
    "# New data structure"
   ]
  },
  {
   "cell_type": "code",
   "execution_count": 2,
   "metadata": {
    "ExecuteTime": {
     "end_time": "2017-03-30T09:57:18.772036",
     "start_time": "2017-03-30T09:57:17.989217"
    },
    "collapsed": false
   },
   "outputs": [
    {
     "data": {
      "text/html": [
       "<div>\n",
       "<table border=\"1\" class=\"dataframe\">\n",
       "  <thead>\n",
       "    <tr style=\"text-align: right;\">\n",
       "      <th></th>\n",
       "      <th>count</th>\n",
       "    </tr>\n",
       "  </thead>\n",
       "  <tbody>\n",
       "    <tr>\n",
       "      <th>0</th>\n",
       "      <td>194</td>\n",
       "    </tr>\n",
       "  </tbody>\n",
       "</table>\n",
       "</div>"
      ],
      "text/plain": [
       "   count\n",
       "0    194"
      ]
     },
     "execution_count": 2,
     "metadata": {},
     "output_type": "execute_result"
    }
   ],
   "source": [
    "payload = {'q': \"SELECT * FROM gaul_final limit 1\"}\n",
    "r = requests.get('https://simbiotica.carto.com/api/v2/sql', params=payload)\n",
    "tableStructure= pd.read_json(json.dumps(r.json()['rows']), orient='records')\n",
    "tableStructure.head(1)\n"
   ]
  },
  {
   "cell_type": "code",
   "execution_count": null,
   "metadata": {
    "collapsed": true
   },
   "outputs": [],
   "source": []
  }
 ],
 "metadata": {
  "kernelspec": {
   "display_name": "Python 3",
   "language": "python",
   "name": "python3"
  },
  "language_info": {
   "codemirror_mode": {
    "name": "ipython",
    "version": 3
   },
   "file_extension": ".py",
   "mimetype": "text/x-python",
   "name": "python",
   "nbconvert_exporter": "python",
   "pygments_lexer": "ipython3",
   "version": "3.5.3"
  }
 },
 "nbformat": 4,
 "nbformat_minor": 2
}
