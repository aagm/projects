{
 "cells": [
  {
   "cell_type": "code",
   "execution_count": 1,
   "metadata": {
    "ExecuteTime": {
     "end_time": "2017-05-05T11:32:51.266657",
     "start_time": "2017-05-05T11:32:50.026857"
    },
    "collapsed": true
   },
   "outputs": [],
   "source": [
    "import requests\n",
    "import json\n",
    "import pandas as pd\n",
    "from pprint import pprint\n",
    "from multiprocessing import Pool"
   ]
  },
  {
   "cell_type": "markdown",
   "metadata": {},
   "source": [
    "ideally this script will get all datasets from prep with their layers and widgets check if they are working and deliver a status report for each one of them."
   ]
  },
  {
   "cell_type": "code",
   "execution_count": 5,
   "metadata": {
    "ExecuteTime": {
     "end_time": "2017-05-05T11:32:53.525773",
     "start_time": "2017-05-05T11:32:53.158363"
    },
    "scrolled": true
   },
   "outputs": [
    {
     "name": "stdout",
     "output_type": "stream",
     "text": [
      "{'attributes': {'application': ['prep'],\n",
      "                'attributesPath': None,\n",
      "                'clonedHost': {},\n",
      "                'connectorType': 'wms',\n",
      "                'connectorUrl': None,\n",
      "                'createdAt': '2016-09-06T16:18:26.940Z',\n",
      "                'dataPath': None,\n",
      "                'errorMessage': None,\n",
      "                'layer': [{'attributes': {'application': ['prep'],\n",
      "                                          'applicationConfig': {'config one': {'from': {'data': 'table'},\n",
      "                                                                               'type': 'lorem'}},\n",
      "                                          'dataset': '119506b3-c5a3-423d-8050-d99f15f12457',\n",
      "                                          'default': True,\n",
      "                                          'description': 'Projected increase '\n",
      "                                                         'in the number of '\n",
      "                                                         'days per year with a '\n",
      "                                                         'maximum temperature '\n",
      "                                                         'greater than 90ºF '\n",
      "                                                         'averaged between '\n",
      "                                                         '2041 and 2070, '\n",
      "                                                         'compared to '\n",
      "                                                         '1971-2000, assuming '\n",
      "                                                         'continued increases '\n",
      "                                                         'in global emissions '\n",
      "                                                         '(A2) and substantial '\n",
      "                                                         'reductions in future '\n",
      "                                                         'emissions (B1). '\n",
      "                                                         '(Figure source: NOAA '\n",
      "                                                         'NCEI / CICS-NC).',\n",
      "                                          'iso': ['USA'],\n",
      "                                          'layerConfig': {'body': {'layers': [0],\n",
      "                                                                   'url': 'http://gis-gfw.wri.org/arcgis/rest/services/prep/nca_figures/MapServer',\n",
      "                                                                   'use-cors': False},\n",
      "                                                          'center': {'lat': 39.6395375643667,\n",
      "                                                                     'lng': -99.84375},\n",
      "                                                          'type': 'dynamicMapLayer',\n",
      "                                                          'zoom': 4},\n",
      "                                          'legendConfig': {'items': [{'color': '#FFFEB8',\n",
      "                                                                      'value': '0-5'},\n",
      "                                                                     {'color': '#FEE58F',\n",
      "                                                                      'value': '5-10'},\n",
      "                                                                     {'color': '#FECC6F',\n",
      "                                                                      'value': '10-15'},\n",
      "                                                                     {'color': '#FDB157',\n",
      "                                                                      'value': '15-20'},\n",
      "                                                                     {'color': '#FB9A4C',\n",
      "                                                                      'value': '20-30'},\n",
      "                                                                     {'color': '#FB7A41',\n",
      "                                                                      'value': '30-40'},\n",
      "                                                                     {'color': '#FA5033',\n",
      "                                                                      'value': '40-50'},\n",
      "                                                                     {'color': '#E82E2A',\n",
      "                                                                      'value': '50-60'},\n",
      "                                                                     {'color': '#CF1727',\n",
      "                                                                      'value': '60-70'},\n",
      "                                                                     {'color': '#AE0729',\n",
      "                                                                      'value': '>70'}],\n",
      "                                                           'type': 'choropleth'},\n",
      "                                          'name': 'Projected Increases in the '\n",
      "                                                  'Number of Days over 90 ºF - '\n",
      "                                                  'Higher Emissions',\n",
      "                                          'provider': 'arcgis',\n",
      "                                          'slug': 'projected-increases-in-the-number-of-days-over-90-f-higher-emissions',\n",
      "                                          'staticImageConfig': {},\n",
      "                                          'userId': None},\n",
      "                           'id': 'a37ce228-235d-4790-ba4d-d91cc764a400',\n",
      "                           'type': 'layer'}],\n",
      "                'legend': {'country': [], 'date': [], 'region': []},\n",
      "                'name': 'Projected Increase in Number of Days over 90º - '\n",
      "                        'Higher Emissions (2041-2070) -- U.S.',\n",
      "                'overwrite': False,\n",
      "                'provider': 'wms',\n",
      "                'slug': 'Projected-Increase-in-Number-of-Days-over-90o-Higher-Emissions-2041-2070-US-1490086842439',\n",
      "                'status': 'saved',\n",
      "                'subtitle': None,\n",
      "                'tableName': None,\n",
      "                'type': None,\n",
      "                'updatedAt': '2016-09-20T07:38:32.530Z',\n",
      "                'userId': '586bc76036aacd381cb92b3a',\n",
      "                'widget': [{'attributes': {'application': ['prep'],\n",
      "                                           'authors': '',\n",
      "                                           'dataset': '119506b3-c5a3-423d-8050-d99f15f12457',\n",
      "                                           'default': True,\n",
      "                                           'description': '',\n",
      "                                           'layerId': None,\n",
      "                                           'name': 'Projected Increases in the '\n",
      "                                                   'Number of Days over 90ºF - '\n",
      "                                                   'Higher Emissions',\n",
      "                                           'published': True,\n",
      "                                           'queryUrl': '',\n",
      "                                           'slug': 'projected-increases-in-the-number-of-days-over-90-f-higher-emissions',\n",
      "                                           'source': '',\n",
      "                                           'sourceUrl': None,\n",
      "                                           'status': 'saved',\n",
      "                                           'template': False,\n",
      "                                           'userId': '58333dcfd9f39b189ca44c75',\n",
      "                                           'verified': False,\n",
      "                                           'widgetConfig': {'layer_id': 'a37ce228-235d-4790-ba4d-d91cc764a400',\n",
      "                                                            'type': 'map'}},\n",
      "                            'id': '514dc521-9486-45e5-aeaf-fa9950a692aa',\n",
      "                            'type': 'widget'}]},\n",
      " 'id': '119506b3-c5a3-423d-8050-d99f15f12457',\n",
      " 'type': 'dataset'}\n"
     ]
    }
   ],
   "source": [
    "for dataset in dataset_list:\n",
    "    pprint(dataset)\n",
    "    break"
   ]
  },
  {
   "cell_type": "code",
   "execution_count": 36,
   "metadata": {
    "ExecuteTime": {
     "end_time": "2017-05-05T14:33:41.706157",
     "start_time": "2017-05-05T14:33:41.668454"
    },
    "scrolled": false
   },
   "outputs": [],
   "source": [
    "def f(dataset):\n",
    "    data={}\n",
    "    if dataset['attributes']['provider']!='wms':\n",
    "        url = 'https://api.resourcewatch.org/v1/query/'+dataset['id']+'?sql=select * from '+dataset['attributes']['tableName']+' limit 1'\n",
    "        s = requests.get(url)\n",
    "        if s.status_code!=200:\n",
    "            data['dataset_id']=dataset['id']\n",
    "            data['dataset_name']=dataset['attributes']['name']\n",
    "            data['dataset_sql_status']=s.status_code\n",
    "            data['connector_provider']=dataset['attributes']['provider']\n",
    "            data['connector_url_status']=requests.get(dataset['attributes']['connectorUrl']).status_code\n",
    "            data['connector_url']=dataset['attributes']['connectorUrl']\n",
    "            data['n_layers'] = len(dataset['attributes']['layer'])\n",
    "            data['n_widgets'] = len(dataset['attributes']['widget'])\n",
    "            return data\n",
    "    else:\n",
    "        for layer in dataset['attributes']['layer']:\n",
    "            if 'url' in layer['attributes']['layerConfig']['body']:\n",
    "                url = layer['attributes']['layerConfig']['body']['url']\n",
    "                s = requests.get(url) \n",
    "                if s.status_code!=200:\n",
    "                    data['dataset_id']=dataset['id']\n",
    "                    data['dataset_name']=dataset['attributes']['name']\n",
    "                    data['dataset_sql_status']=None\n",
    "                    data['connector_provider']=dataset['attributes']['connectorUrl']\n",
    "                    data['connector_url_status']=s.status_code\n",
    "                    data['connector_url']=dataset['attributes']['connectorUrl']\n",
    "                    data['n_layers'] = len(dataset['attributes']['layer'])\n",
    "                    data['n_widgets'] = len(dataset['attributes']['widget'])\n",
    "                    return data\n",
    "        \n"
   ]
  },
  {
   "cell_type": "code",
   "execution_count": 31,
   "metadata": {
    "ExecuteTime": {
     "end_time": "2017-05-05T14:23:19.323425",
     "start_time": "2017-05-05T14:23:19.307049"
    },
    "scrolled": true
   },
   "outputs": [],
   "source": [
    "def dataFrame(l):\n",
    "    dDict={\n",
    "    'dataset_id': [x['dataset_id'] for x in l if x!=None],\n",
    "    'dataset_name': [x['dataset_name'] for x in l if x!=None],\n",
    "    'dataset_sql_status': [x['dataset_sql_status'] for x in l if x!=None],\n",
    "    'connector_provider': [x['connector_provider'] for x in l if x!=None],\n",
    "    'connector_url_status': [x['connector_url_status'] for x in l if x!=None],\n",
    "    'connector_url': [x['connector_url'] for x in l if x!=None],\n",
    "    'n_layers': [x['n_layers'] for x in l if x!=None],\n",
    "    'n_widgets': [x['n_widgets'] for x in l if x!=None]\n",
    "\n",
    "    }\n",
    "    pd.DataFrame(dDict).to_csv('test.csv')\n",
    "    return 'done'"
   ]
  },
  {
   "cell_type": "code",
   "execution_count": 32,
   "metadata": {
    "ExecuteTime": {
     "end_time": "2017-05-05T14:23:20.037015",
     "start_time": "2017-05-05T14:23:20.023824"
    },
    "collapsed": true
   },
   "outputs": [],
   "source": [
    "def main(n):\n",
    "    try:\n",
    "        r = requests.get(\"https://api.resourcewatch.org/v1/dataset?application=prep&status=saved&includes=widget,layer&page%5Bsize%5D=14914800.35312\")\n",
    "    except requests.ConnectionError:\n",
    "        print(\"Unexpected error:\", requests.ConnectionError)\n",
    "        raise\n",
    "    else:\n",
    "        dataset_list = r.json()['data']\n",
    "        p = Pool(n)\n",
    "        l = p.map(f, dataset_list)\n",
    "        dataFrame(l)\n"
   ]
  },
  {
   "cell_type": "code",
   "execution_count": 34,
   "metadata": {
    "ExecuteTime": {
     "end_time": "2017-05-05T14:26:45.828473",
     "start_time": "2017-05-05T14:26:20.886763"
    }
   },
   "outputs": [],
   "source": [
    "main(20)"
   ]
  },
  {
   "cell_type": "code",
   "execution_count": null,
   "metadata": {
    "collapsed": true
   },
   "outputs": [],
   "source": []
  }
 ],
 "metadata": {
  "hide_input": false,
  "kernelspec": {
   "display_name": "Python 3",
   "language": "python",
   "name": "python3"
  },
  "language_info": {
   "codemirror_mode": {
    "name": "ipython",
    "version": 3
   },
   "file_extension": ".py",
   "mimetype": "text/x-python",
   "name": "python",
   "nbconvert_exporter": "python",
   "pygments_lexer": "ipython3",
   "version": "3.5.3"
  }
 },
 "nbformat": 4,
 "nbformat_minor": 2
}
