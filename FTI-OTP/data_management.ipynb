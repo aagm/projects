{
 "cells": [
  {
   "cell_type": "markdown",
   "metadata": {},
   "source": [
    "Data structure location: https://docs.google.com/spreadsheets/d/1ai7GJm_pmB1I2zIlVdIheS4U58KuwnkAdXUfk8jkNpY/edit#gid=1949702577\n",
    "\n",
    "todo list:  \n",
    "- [] connect data to geopandas\n",
    "- [] reformat the fields to:  \n",
    "    - company_name\n",
    "    - capital_origin\n",
    "    - fmu_name\n",
    "    - fmu_type\n",
    "    - start_date\n",
    "    - end_date\n",
    "    - the_geom / the_geom_webmercator\n",
    "    - sawmills\n",
    "    - management_doc_name\n",
    "    - validation_date\n",
    "    - ccf_status\n",
    "    - m_plan_status\n",
    "    - num_ccf\n",
    "    - open_year\n",
    "    - close_year\n",
    "    - last_update\n",
    "    - certification_status\n",
    "    - certification_type\n",
    "    - certification_date\n",
    "    - certification_date_due\n",
    "    - iso3_fmu\n",
    "    \n",
    "- [] sync it to a table in carto"
   ]
  },
  {
   "cell_type": "code",
   "execution_count": 1,
   "metadata": {},
   "outputs": [],
   "source": [
    "%matplotlib inline"
   ]
  },
  {
   "cell_type": "code",
   "execution_count": 2,
   "metadata": {
    "ExecuteTime": {
     "end_time": "2017-05-03T12:36:48.909912",
     "start_time": "2017-05-03T12:36:48.238961"
    }
   },
   "outputs": [],
   "source": [
    "import requests\n",
    "import geopandas as gpd\n",
    "import pandas as pd\n",
    "import geojson"
   ]
  },
  {
   "cell_type": "markdown",
   "metadata": {
    "collapsed": true
   },
   "source": []
  },
  {
   "cell_type": "code",
   "execution_count": 22,
   "metadata": {
    "ExecuteTime": {
     "end_time": "2017-05-03T12:36:49.975654",
     "start_time": "2017-05-03T12:36:49.954730"
    },
    "collapsed": true
   },
   "outputs": [],
   "source": [
    "data_links = [\n",
    "    {\n",
    "    \"url\":\"http://cod-data.forest-atlas.org/datasets/b45c429a250c4142973bc665fb95fbc2_31.geojson\",\n",
    "    \"iso3\":\"COD\",\n",
    "    \"information_type\": \"forest_concession\",\n",
    "    \"data\":None,\n",
    "    \"columns\":[],\n",
    "    \"columns_selection\":[\"geometry\", \"company_name\", \"capital_origin\", \"fmu_name\", \"fmu_type\", \"start_date\", \"end_date\", \"sawmills\", \"management_doc_name\", \"validation_date\", \"ccf_status\", \"m_plan_status\", \"num_ccf\", \"open_year\", \"close_year\", \"last_update\", \"certification_status\", \"certification_type\", \"certification_date\", \"certification_date_due\", \"iso3_fmu\"],\n",
    "    \"columns_selec_rename\":{\n",
    "        \"company_name\":\"attributai\", \n",
    "        \"capital_origin\":\"orig_capit\",\n",
    "        \"fmu_name\": \"ref_ccf\",\n",
    "        \"fmu_type\": None,\n",
    "        \"start_date\": \"date_attr\",\n",
    "        \"end_date\": \"date_echea\",\n",
    "        \"sawmills\": None,\n",
    "        \"management_doc_name\": None,\n",
    "        \"validation_date\": \"date_amgt\",\n",
    "        \"ccf_status\": \"statu_ccf\",\n",
    "        \"m_plan_status\": \"statu_pg\",\n",
    "        \"num_ccf\": \"num_ccf\",\n",
    "        \"open_year\": None,\n",
    "        \"close_year\": None,\n",
    "        \"last_update\": None,\n",
    "        \"certification_status\": \"statu_cert\",\n",
    "        \"certification_type\": \"type_cert\",\n",
    "        \"certification_date\": \"date_cert\",\n",
    "        \"certification_date_due\": \"dat_ech_ce\",\n",
    "        \"iso3_fmu\": None\n",
    "        }\n",
    "    },\n",
    "    {\n",
    "    \"url\":\"http://cod-data.forest-atlas.org/datasets/224dd07c89c94cc088232e57c5413046_42.geojson\",\n",
    "    \"iso3\":\"COD\",\n",
    "    \"information_type\": \"harvestable_areas\",\n",
    "    \"data\":None,\n",
    "    \"columns\":[],\n",
    "    \"columns_selection\":[\"geometry\", \"num_ccf\",\"vol_aut_m3\",\"open_year\",\"close_year\",\"last_update\",\"period_val\",\"num_aac\",\"type_aac\",\"statu_aac\",\"area_ha\"],\n",
    "    \"columns_selec_rename\":{\n",
    "        \"num_ccf\": \"num_ccf\",\n",
    "        \"vol_aut_m3\":\"vol_aut_m3\",\n",
    "        \"open_year\": \"annee_ouv\",\n",
    "        \"close_year\": \"annee_ferm\",\n",
    "        \"last_update\": \"last_edited_date\",\n",
    "        \"period_val\": \"period_val\",\n",
    "        \"num_aac\": \"num_aac\",\n",
    "        \"type_aac\": \"type_\",\n",
    "        \"statu_aac\": \"statu_aac\",\n",
    "        \"area_ha\": \"sup_sig_ha\"\n",
    "        }\n",
    "    },\n",
    "    {\n",
    "    \"url\":\"http://cog-data.forest-atlas.org/datasets/bd97297ece7547bda7d527f8182dd8e9_29.geojson\",\n",
    "    \"iso3\":\"COG\",\n",
    "    \"information_type\": \"forest_concession\",\n",
    "    \"data\":None,\n",
    "    \"columns\":[],\n",
    "    \"columns_selection\":[\"geometry\", \"company_name\", \"capital_origin\", \"fmu_name\", \"fmu_type\", \"start_date\", \"end_date\", \"sawmills\", \"management_doc_name\", \"validation_date\", \"ccf_status\", \"m_plan_status\", \"num_ccf\", \"open_year\", \"close_year\", \"last_update\", \"certification_status\", \"certification_type\", \"certification_date\", \"certification_date_due\", \"iso3_fmu\"],\n",
    "    \"columns_selec_rename\":{\n",
    "        \"company_name\": \"cog_open_data_enCOGsocietenom_ste\", \n",
    "        \"capital_origin\": \"cog_open_data_enCOGsocieteorig_capit\",\n",
    "        \"fmu_name\": \"cog_open_data_enCOGconcessionsnom_con\",\n",
    "        \"fmu_type\": None,\n",
    "        \"start_date\": \"cog_open_data_enCOGconcessionsdate_attri\",\n",
    "        \"end_date\": \"cog_open_data_enCOGconcessionsdate_echea\",\n",
    "        \"sawmills\": None,\n",
    "        \"management_doc_name\": \"cog_open_data_enCOGconcessionstype_conv\",\n",
    "        \"validation_date\": \"cog_open_data_enCOGconcessionsdate_amgt\",\n",
    "        \"ccf_status\": None,\n",
    "        \"m_plan_status\": \"cog_open_data_enCOGconcessionsstatu_amgt\",\n",
    "        \"num_ccf\": None,\n",
    "        \"open_year\": \"cog_open_data_enCOGconcessionsan_deb_ex\",\n",
    "        \"close_year\": \"cog_open_data_enCOGconcessionsperio_rota\",\n",
    "        \"last_update\": \"cog_open_data_enCOGsocietelast_edited_date\",\n",
    "        \"certification_status\": None,\n",
    "        \"certification_type\": \"cog_open_data_enCOGconcessionstype_cert\",\n",
    "        \"certification_date\": \"cog_open_data_enCOGconcessionsdate_cert\",\n",
    "        \"certification_date_due\": None,\n",
    "        \"iso3_fmu\": None\n",
    "        }\n",
    "    },\n",
    "    {\n",
    "    \"url\":\"http://cog-data.forest-atlas.org/datasets/88233cf25ac44ef594a821e2f07d45f8_46.geojson\",\n",
    "    \"iso3\":\"COG\",\n",
    "    \"information_type\": \"millet\",\n",
    "    \"data\":None,\n",
    "    \"columns\":[],\n",
    "    \"columns_selection\":[\"OBJECTID\", \"bur_cert\", \"cap_m3\", \"date_cert\", \"desc_type\", \"geometry\",\"localisati\", \"societe\", \"statu_unit\", \"type_\", \"type_cert\"],\n",
    "    \"columns_selec_rename\":{}\n",
    "    }\n",
    "]"
   ]
  },
  {
   "cell_type": "code",
   "execution_count": 27,
   "metadata": {
    "ExecuteTime": {
     "end_time": "2017-05-03T12:37:13.501306",
     "start_time": "2017-05-03T12:37:11.527133"
    }
   },
   "outputs": [],
   "source": [
    "def main(data_links):\n",
    "    '''\n",
    "    This script will download the data, merge it depend on the data type \n",
    "    and will produce the same number of shapefiles than data types.\n",
    "    '''\n",
    "    managementList=[]\n",
    "    \n",
    "    for data in data_links:\n",
    "        r=requests.get(data['url'])\n",
    "        geodata = geojson.loads(geojson.dumps(r.json()))\n",
    "        data['data']=gpd.GeoDataFrame.from_features(geodata.__geo_interface__['features'],crs = {'init' :'epsg:4326'})\n",
    "        data['columns']=data['data'].columns.values\n",
    "        \n",
    "    for types in unique_vals(data_links,'information_type'):\n",
    "        obj={\n",
    "            'type':types,\n",
    "            'dataList':[d for d in data_links if d['information_type'] == types]}\n",
    "        managementList.append(obj)\n",
    "    \n",
    "    for lists in managementList:\n",
    "        fileName = lists['type'] + '.shp'\n",
    "        outFile = data_merge(lists['dataList'])\n",
    "        outFile.to_file( fileName, driver='ESRI Shapefile')\n",
    "            \n",
    "            \n",
    "            \n",
    "            "
   ]
  },
  {
   "cell_type": "code",
   "execution_count": 28,
   "metadata": {
    "ExecuteTime": {
     "end_time": "2017-05-03T12:37:19.484558",
     "start_time": "2017-05-03T12:37:19.467307"
    },
    "scrolled": true
   },
   "outputs": [],
   "source": [
    "def unique_vals(listObj, property):\n",
    "    used = set()\n",
    "    return [item[property] for item in listObj if item[property] not in used and (used.add(item[property]) or True)]"
   ]
  },
  {
   "cell_type": "code",
   "execution_count": 31,
   "metadata": {
    "collapsed": true
   },
   "outputs": [],
   "source": [
    "def data_merge(forest_concessions):   \n",
    "    response = []\n",
    "    for concessions in forest_concessions:\n",
    "        nullcolumns = [k  for k, v in concessions['columns_selec_rename'].items() if v == None]\n",
    "        for column in nullcolumns:\n",
    "            concessions['data'][column]=None\n",
    "        concessions['data']['iso3_fmu']=concessions['iso3']\n",
    "        concessions['data'].rename(columns={v: k  for k, v in concessions['columns_selec_rename'].items() if v != None}, inplace=True)\n",
    "        response.append(concessions['data'][list(concessions['columns_selection'])])\n",
    "    return pd.concat(response)"
   ]
  },
  {
   "cell_type": "code",
   "execution_count": 30,
   "metadata": {},
   "outputs": [
    {
     "name": "stdout",
     "output_type": "stream",
     "text": [
      "['geometry', 'company_name', 'capital_origin', 'fmu_name', 'fmu_type', 'start_date', 'end_date', 'sawmills', 'management_doc_name', 'validation_date', 'ccf_status', 'm_plan_status', 'num_ccf', 'open_year', 'close_year', 'last_update', 'certification_status', 'certification_type', 'certification_date', 'certification_date_due', 'iso3_fmu']\n",
      "['OBJECTID' 'SHAPESTArea' 'company_name' 'certification_date_due'\n",
      " 'dat_ech_le' 'validation_date' 'start_date' 'certification_date'\n",
      " 'end_date' 'date_legal' 'geometry' 'last_edited_date' 'num_ccf' 'num_ga'\n",
      " 'capital_origin' 'fmu_name' 'statu_amgt' 'ccf_status'\n",
      " 'certification_status' 'statu_leg' 'm_plan_status' 'sup_adm_ha'\n",
      " 'sup_ccf_ha' 'sup_exp_ha' 'sup_sig_ha' 'type_' 'certification_type'\n",
      " 'management_doc_name' 'close_year' 'sawmills' 'open_year' 'fmu_type'\n",
      " 'iso3_fmu' 'last_update']\n",
      "['geometry', 'company_name', 'capital_origin', 'fmu_name', 'fmu_type', 'start_date', 'end_date', 'sawmills', 'management_doc_name', 'validation_date', 'ccf_status', 'm_plan_status', 'num_ccf', 'open_year', 'close_year', 'last_update', 'certification_status', 'certification_type', 'certification_date', 'certification_date_due', 'iso3_fmu']\n",
      "['cog_open_data_enCOGconcessionsGlobalID'\n",
      " 'cog_open_data_enCOGconcessionsOBJECTID'\n",
      " 'cog_open_data_enCOGconcessionsan_1er_exp' 'open_year' 'validation_date'\n",
      " 'start_date' 'certification_date'\n",
      " 'cog_open_data_enCOGconcessionsdate_conv'\n",
      " 'cog_open_data_enCOGconcessionsdate_ech_le' 'end_date'\n",
      " 'cog_open_data_enCOGconcessionsdate_legal'\n",
      " 'cog_open_data_enCOGconcessionsdesc_type' 'fmu_name'\n",
      " 'cog_open_data_enCOGconcessionsnom_dep'\n",
      " 'cog_open_data_enCOGconcessionsnom_ufa' 'close_year'\n",
      " 'cog_open_data_enCOGconcessionssect_for' 'm_plan_status'\n",
      " 'cog_open_data_enCOGconcessionsstatu_att'\n",
      " 'cog_open_data_enCOGconcessionssup_adm_ha'\n",
      " 'cog_open_data_enCOGconcessionssup_pro_ha'\n",
      " 'cog_open_data_enCOGconcessionssup_sig_ha'\n",
      " 'cog_open_data_enCOGconcessionssup_tax_ha' 'certification_type'\n",
      " 'management_doc_name' 'cog_open_data_enCOGconcessionstype_leg'\n",
      " 'cog_open_data_enCOGconcessionszone_for' 'last_update' 'company_name'\n",
      " 'capital_origin' 'cog_open_data_enCOGsocietepays_orig' 'geometry'\n",
      " 'sawmills' 'num_ccf' 'fmu_type' 'iso3_fmu' 'certification_status'\n",
      " 'ccf_status' 'certification_date_due']\n",
      "['geometry', 'num_ccf', 'vol_aut_m3', 'open_year', 'close_year', 'last_update', 'period_val', 'num_aac', 'type_aac', 'statu_aac', 'area_ha']\n",
      "['OBJECTID' 'SHAPESTArea' 'close_year' 'open_year' 'geometry' 'last_update'\n",
      " 'num_aac' 'num_bq' 'num_ccf' 'period_val' 'statu_aac' 'area_ha' 'type_aac'\n",
      " 'vol_aut_m3' 'iso3_fmu']\n",
      "['OBJECTID', 'bur_cert', 'cap_m3', 'date_cert', 'desc_type', 'geometry', 'localisati', 'societe', 'statu_unit', 'type_', 'type_cert']\n",
      "['OBJECTID' 'bur_cert' 'cap_m3' 'date_cert' 'desc_type' 'geometry'\n",
      " 'localisati' 'societe' 'statu_unit' 'type_' 'type_cert' 'iso3_fmu']\n"
     ]
    }
   ],
   "source": [
    "main(data_links)"
   ]
  },
  {
   "cell_type": "code",
   "execution_count": null,
   "metadata": {},
   "outputs": [],
   "source": [
    "#data_final = data_merge(forest_concessions) "
   ]
  },
  {
   "cell_type": "code",
   "execution_count": null,
   "metadata": {},
   "outputs": [],
   "source": [
    "#data_final.columns.values"
   ]
  },
  {
   "cell_type": "code",
   "execution_count": null,
   "metadata": {},
   "outputs": [],
   "source": [
    "#data_final.plot(color='red',legend=None);"
   ]
  },
  {
   "cell_type": "code",
   "execution_count": null,
   "metadata": {
    "collapsed": true
   },
   "outputs": [],
   "source": []
  }
 ],
 "metadata": {
  "hide_input": false,
  "kernelspec": {
   "display_name": "Python 3",
   "language": "python",
   "name": "python3"
  },
  "language_info": {
   "codemirror_mode": {
    "name": "ipython",
    "version": 3
   },
   "file_extension": ".py",
   "mimetype": "text/x-python",
   "name": "python",
   "nbconvert_exporter": "python",
   "pygments_lexer": "ipython3",
   "version": "3.5.3"
  }
 },
 "nbformat": 4,
 "nbformat_minor": 2
}
