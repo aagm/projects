{
 "cells": [
  {
   "cell_type": "markdown",
   "metadata": {
    "deletable": true,
    "editable": true
   },
   "source": []
  },
  {
   "cell_type": "code",
   "execution_count": 2,
   "metadata": {
    "collapsed": false
   },
   "outputs": [],
   "source": [
    "import pandas as pd\n",
    "import numpy"
   ]
  },
  {
   "cell_type": "code",
   "execution_count": 10,
   "metadata": {
    "collapsed": false
   },
   "outputs": [],
   "source": [
    "!find -name AllCombined04.csv"
   ]
  },
  {
   "cell_type": "code",
   "execution_count": 12,
   "metadata": {
    "collapsed": false
   },
   "outputs": [],
   "source": [
    "inData = pd.read_csv('/home/jovyan/work/data/aqueduct/data_source/wr_indicators/AllCombined04.csv')"
   ]
  },
  {
   "cell_type": "code",
   "execution_count": 14,
   "metadata": {
    "collapsed": false
   },
   "outputs": [
    {
     "data": {
      "text/html": [
       "<div>\n",
       "<table border=\"1\" class=\"dataframe\">\n",
       "  <thead>\n",
       "    <tr style=\"text-align: right;\">\n",
       "      <th></th>\n",
       "      <th>Id</th>\n",
       "      <th>BasinID</th>\n",
       "      <th>aqbasinwaterstressyeardimensionlesI054Y2014M01_OID</th>\n",
       "      <th>aqbasinwaterstressyeardimensionlesI054Y2014M01_COUNT</th>\n",
       "      <th>aqbasinwaterstressyeardimensionlesI054Y2014M01_AREA</th>\n",
       "      <th>aqbasinwaterstressyeardimensionlesI054Y2014M01_MIN</th>\n",
       "      <th>aqbasinwaterstressyeardimensionlesI054Y2014M01_MAX</th>\n",
       "      <th>aqbasinwaterstressyeardimensionlesI054Y2014M01_RANGE</th>\n",
       "      <th>aqbasinwaterstressyeardimensionlesI054Y2014M01_MEAN</th>\n",
       "      <th>aqbasinwaterstressyeardimensionlesI054Y2014M01_STD</th>\n",
       "      <th>...</th>\n",
       "      <th>q4seasonalvariabilitywatersupply_SUM</th>\n",
       "      <th>riverdischargeyearm3secondI054Y2014M01_OID</th>\n",
       "      <th>riverdischargeyearm3secondI054Y2014M01_COUNT</th>\n",
       "      <th>riverdischargeyearm3secondI054Y2014M01_AREA</th>\n",
       "      <th>riverdischargeyearm3secondI054Y2014M01_MIN</th>\n",
       "      <th>riverdischargeyearm3secondI054Y2014M01_MAX</th>\n",
       "      <th>riverdischargeyearm3secondI054Y2014M01_RANGE</th>\n",
       "      <th>riverdischargeyearm3secondI054Y2014M01_MEAN</th>\n",
       "      <th>riverdischargeyearm3secondI054Y2014M01_STD</th>\n",
       "      <th>riverdischargeyearm3secondI054Y2014M01_SUM</th>\n",
       "    </tr>\n",
       "  </thead>\n",
       "  <tbody>\n",
       "    <tr>\n",
       "      <th>0</th>\n",
       "      <td>1</td>\n",
       "      <td>-1</td>\n",
       "      <td>-1.0</td>\n",
       "      <td>95521.0</td>\n",
       "      <td>663.34024</td>\n",
       "      <td>0.0</td>\n",
       "      <td>0.0</td>\n",
       "      <td>0.0</td>\n",
       "      <td>0.0</td>\n",
       "      <td>0.0</td>\n",
       "      <td>...</td>\n",
       "      <td>0.0</td>\n",
       "      <td>-1.0</td>\n",
       "      <td>95521.0</td>\n",
       "      <td>663.34024</td>\n",
       "      <td>0.0</td>\n",
       "      <td>0.0</td>\n",
       "      <td>0.0</td>\n",
       "      <td>0.0</td>\n",
       "      <td>0.0</td>\n",
       "      <td>0.0</td>\n",
       "    </tr>\n",
       "    <tr>\n",
       "      <th>1</th>\n",
       "      <td>2</td>\n",
       "      <td>-1</td>\n",
       "      <td>-1.0</td>\n",
       "      <td>95521.0</td>\n",
       "      <td>663.34024</td>\n",
       "      <td>0.0</td>\n",
       "      <td>0.0</td>\n",
       "      <td>0.0</td>\n",
       "      <td>0.0</td>\n",
       "      <td>0.0</td>\n",
       "      <td>...</td>\n",
       "      <td>0.0</td>\n",
       "      <td>-1.0</td>\n",
       "      <td>95521.0</td>\n",
       "      <td>663.34024</td>\n",
       "      <td>0.0</td>\n",
       "      <td>0.0</td>\n",
       "      <td>0.0</td>\n",
       "      <td>0.0</td>\n",
       "      <td>0.0</td>\n",
       "      <td>0.0</td>\n",
       "    </tr>\n",
       "  </tbody>\n",
       "</table>\n",
       "<p>2 rows × 137 columns</p>\n",
       "</div>"
      ],
      "text/plain": [
       "   Id  BasinID  aqbasinwaterstressyeardimensionlesI054Y2014M01_OID  \\\n",
       "0   1       -1                                               -1.0    \n",
       "1   2       -1                                               -1.0    \n",
       "\n",
       "   aqbasinwaterstressyeardimensionlesI054Y2014M01_COUNT  \\\n",
       "0                                            95521.0      \n",
       "1                                            95521.0      \n",
       "\n",
       "   aqbasinwaterstressyeardimensionlesI054Y2014M01_AREA  \\\n",
       "0                                          663.34024     \n",
       "1                                          663.34024     \n",
       "\n",
       "   aqbasinwaterstressyeardimensionlesI054Y2014M01_MIN  \\\n",
       "0                                                0.0    \n",
       "1                                                0.0    \n",
       "\n",
       "   aqbasinwaterstressyeardimensionlesI054Y2014M01_MAX  \\\n",
       "0                                                0.0    \n",
       "1                                                0.0    \n",
       "\n",
       "   aqbasinwaterstressyeardimensionlesI054Y2014M01_RANGE  \\\n",
       "0                                                0.0      \n",
       "1                                                0.0      \n",
       "\n",
       "   aqbasinwaterstressyeardimensionlesI054Y2014M01_MEAN  \\\n",
       "0                                                0.0     \n",
       "1                                                0.0     \n",
       "\n",
       "   aqbasinwaterstressyeardimensionlesI054Y2014M01_STD  \\\n",
       "0                                                0.0    \n",
       "1                                                0.0    \n",
       "\n",
       "                      ...                      \\\n",
       "0                     ...                       \n",
       "1                     ...                       \n",
       "\n",
       "   q4seasonalvariabilitywatersupply_SUM  \\\n",
       "0                                   0.0   \n",
       "1                                   0.0   \n",
       "\n",
       "   riverdischargeyearm3secondI054Y2014M01_OID  \\\n",
       "0                                        -1.0   \n",
       "1                                        -1.0   \n",
       "\n",
       "   riverdischargeyearm3secondI054Y2014M01_COUNT  \\\n",
       "0                                       95521.0   \n",
       "1                                       95521.0   \n",
       "\n",
       "   riverdischargeyearm3secondI054Y2014M01_AREA  \\\n",
       "0                                    663.34024   \n",
       "1                                    663.34024   \n",
       "\n",
       "   riverdischargeyearm3secondI054Y2014M01_MIN  \\\n",
       "0                                         0.0   \n",
       "1                                         0.0   \n",
       "\n",
       "   riverdischargeyearm3secondI054Y2014M01_MAX  \\\n",
       "0                                         0.0   \n",
       "1                                         0.0   \n",
       "\n",
       "   riverdischargeyearm3secondI054Y2014M01_RANGE  \\\n",
       "0                                           0.0   \n",
       "1                                           0.0   \n",
       "\n",
       "   riverdischargeyearm3secondI054Y2014M01_MEAN  \\\n",
       "0                                          0.0   \n",
       "1                                          0.0   \n",
       "\n",
       "   riverdischargeyearm3secondI054Y2014M01_STD  \\\n",
       "0                                         0.0   \n",
       "1                                         0.0   \n",
       "\n",
       "   riverdischargeyearm3secondI054Y2014M01_SUM  \n",
       "0                                         0.0  \n",
       "1                                         0.0  \n",
       "\n",
       "[2 rows x 137 columns]"
      ]
     },
     "execution_count": 14,
     "metadata": {},
     "output_type": "execute_result"
    }
   ],
   "source": [
    "inData.head(2)"
   ]
  },
  {
   "cell_type": "code",
   "execution_count": 15,
   "metadata": {
    "collapsed": false
   },
   "outputs": [
    {
     "data": {
      "text/plain": [
       "Index(['Id', 'BasinID', 'aqbasinwaterstressyeardimensionlesI054Y2014M01_OID',\n",
       "       'aqbasinwaterstressyeardimensionlesI054Y2014M01_COUNT',\n",
       "       'aqbasinwaterstressyeardimensionlesI054Y2014M01_AREA',\n",
       "       'aqbasinwaterstressyeardimensionlesI054Y2014M01_MIN',\n",
       "       'aqbasinwaterstressyeardimensionlesI054Y2014M01_MAX',\n",
       "       'aqbasinwaterstressyeardimensionlesI054Y2014M01_RANGE',\n",
       "       'aqbasinwaterstressyeardimensionlesI054Y2014M01_MEAN',\n",
       "       'aqbasinwaterstressyeardimensionlesI054Y2014M01_STD',\n",
       "       ...\n",
       "       'q4seasonalvariabilitywatersupply_SUM',\n",
       "       'riverdischargeyearm3secondI054Y2014M01_OID',\n",
       "       'riverdischargeyearm3secondI054Y2014M01_COUNT',\n",
       "       'riverdischargeyearm3secondI054Y2014M01_AREA',\n",
       "       'riverdischargeyearm3secondI054Y2014M01_MIN',\n",
       "       'riverdischargeyearm3secondI054Y2014M01_MAX',\n",
       "       'riverdischargeyearm3secondI054Y2014M01_RANGE',\n",
       "       'riverdischargeyearm3secondI054Y2014M01_MEAN',\n",
       "       'riverdischargeyearm3secondI054Y2014M01_STD',\n",
       "       'riverdischargeyearm3secondI054Y2014M01_SUM'],\n",
       "      dtype='object', length=137)"
      ]
     },
     "execution_count": 15,
     "metadata": {},
     "output_type": "execute_result"
    }
   ],
   "source": [
    "inData.columns"
   ]
  },
  {
   "cell_type": "markdown",
   "metadata": {},
   "source": [
    "Create a dict that per column extracts the values needed \n",
    "\n",
    "\n",
    "tipo: \n",
    "[\n",
    "{column: \"\",\n",
    " indicator: \"\",\n",
    " \n",
    " \n",
    " "
   ]
  },
  {
   "cell_type": "code",
   "execution_count": null,
   "metadata": {
    "collapsed": true
   },
   "outputs": [],
   "source": []
  }
 ],
 "metadata": {
  "kernelspec": {
   "display_name": "Python 3",
   "language": "python",
   "name": "python3"
  },
  "language_info": {
   "codemirror_mode": {
    "name": "ipython",
    "version": 3
   },
   "file_extension": ".py",
   "mimetype": "text/x-python",
   "name": "python",
   "nbconvert_exporter": "python",
   "pygments_lexer": "ipython3",
   "version": "3.5.3"
  }
 },
 "nbformat": 4,
 "nbformat_minor": 2
}
